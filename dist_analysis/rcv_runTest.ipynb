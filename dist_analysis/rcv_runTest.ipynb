{
 "cells": [
  {
   "cell_type": "code",
   "execution_count": 38,
   "metadata": {},
   "outputs": [
    {
     "name": "stdout",
     "output_type": "stream",
     "text": [
      "The autoreload extension is already loaded. To reload it, use:\n",
      "  %reload_ext autoreload\n"
     ]
    }
   ],
   "source": [
    "from rcv_elections import rcvElections \n",
    "import matplotlib.pyplot as plt\n",
    "import pandas as pd\n",
    "import random\n",
    "import itertools\n",
    "from numpy.random import choice\n",
    "import random\n",
    "import sys\n",
    "%load_ext autoreload\n",
    "%autoreload 2\n"
   ]
  },
  {
   "cell_type": "code",
   "execution_count": null,
   "metadata": {},
   "outputs": [],
   "source": []
  },
  {
   "cell_type": "code",
   "execution_count": 39,
   "metadata": {},
   "outputs": [],
   "source": [
    "##generates a ballot list based on a PL distribution on all permutations specified by the second and third arguments (which are supposed to be dictionaries)\n",
    "def pl(num_ballots, vote_portion_by_race, mean_support_by_race, cand_list):##borrowed from the ballot_generator in the GeneralRCV repo with some slight modifications\n",
    "    ballots_list = []\n",
    "    for race in vote_portion_by_race.keys():\n",
    "        num_ballots_race = int(num_ballots*vote_portion_by_race[race])##this computes number of voters in this race/block\n",
    "        cand_support_vec = list(mean_support_by_race[race].values())##creates the interval of probabilities for candidates supported by this block\n",
    "        for j in range(num_ballots_race):\n",
    "            (a,b,c,d,e) = choice(cand_list, len(cand_list), replace = False, p = cand_support_vec)\n",
    "            ballots_list.append((a,b,c,d,e))\n",
    "    return ballots_list\n",
    "def pl8(num_ballots, vote_portion_by_race, mean_support_by_race, cand_list):##borrowed from the ballot_generator in the GeneralRCV repo with some slight modifications\n",
    "    ballots_list = []\n",
    "    for race in vote_portion_by_race.keys():\n",
    "        num_ballots_race = int(num_ballots*vote_portion_by_race[race])##this computes number of voters in this race/block\n",
    "        cand_support_vec = list(mean_support_by_race[race].values())##creates the interval of probabilities for candidates supported by this block\n",
    "        for j in range(num_ballots_race):\n",
    "            (a,b,c,d,e,f,g,h) = choice(cand_list, len(cand_list), replace = False, p = cand_support_vec)\n",
    "            ballots_list.append((a,b,c,d,e,f,g,h))\n",
    "    return ballots_list\n",
    "\n",
    "\n",
    "\n",
    "def bt(num_ballots, vote_portion_by_race, mean_support_by_race, cand_list): ##generates a ballot list based on a BT distribution on all permutations specified by the second and third arguments (which are supposed to be dictionaries)\n",
    "  weights=[]\n",
    "  n=len(cand_list)\n",
    "  k=0\n",
    "  permutations = list(itertools.permutations(cand_list))\n",
    "  for combo in permutations:##computes (inverse of) the constant of proportionality\n",
    "    m=1\n",
    "    for i in range(n):\n",
    "      for j in range(i+1,n):\n",
    "        l=0\n",
    "        for race in vote_portion_by_race.keys():\n",
    "          l = l+vote_portion_by_race[race]*(mean_support_by_race[race][combo[i]]/(mean_support_by_race[race][combo[i]]+mean_support_by_race[race][combo[j]]))\n",
    "        if j!=i:\n",
    "          m=m*l\n",
    "    k=k+m\n",
    "\n",
    "  for combo in permutations:\n",
    "    prob=1\n",
    "    for i in range(n):\n",
    "      for j in range(i+1,n):\n",
    "        l=0\n",
    "        for race in vote_portion_by_race.keys():\n",
    "          l = l+vote_portion_by_race[race]*(mean_support_by_race[race][combo[i]]/( mean_support_by_race[race][combo[i]]+mean_support_by_race[race][combo[j]]))\n",
    "        prob=prob*l\n",
    "    weights.append(prob/k)##we're giving each permutation of cand_list a weight\n",
    "\n",
    "  x= choice(range(len(permutations)), num_ballots, replace=True, p = weights)\n",
    "  return list(permutations[i] for i in x)"
   ]
  },
  {
   "cell_type": "code",
   "execution_count": 40,
   "metadata": {},
   "outputs": [],
   "source": [
    "def ballotGen8(num_ballots, ratio_pl):\n",
    "  cand_list = ['A','B','C','D','E','F','G','H']\n",
    "  ratio_bt = 1 - ratio_pl\n",
    "  num_bt = int(round(ratio_bt * num_ballots,0))\n",
    "  num_pl= int(round(ratio_pl * num_ballots,0))\n",
    "  mean_support_by_race = {'X':{'A':0.25, 'B':0.20, 'C':0.19, 'D':0.1, 'E':0.05, 'F': 0.03, 'G': 0.03, 'H': 0.15}, 'Y':{'A':.13, 'B':0.10, 'C':0.07, 'D':0.15, 'E': 0.05,'F': 0.2, 'G': 0.1, 'H': 0.2}}\n",
    "  bt_list = bt(num_bt, {'X':0.5, 'Y':0.5}, mean_support_by_race, cand_list)\n",
    "  pl_list = pl8(num_pl, {'X':0.5, 'Y':0.5}, mean_support_by_race, cand_list)\n",
    "  election_list = bt_list + pl_list\n",
    "  if num_ballots != len(election_list):\n",
    "    under_count = num_ballots - len(election_list)\n",
    "    more_ballots = bt(under_count, {'X':0.5, 'Y':0.5}, mean_support_by_race, cand_list)\n",
    "    election_list = bt_list + pl_list + more_ballots\n",
    "  return election_list"
   ]
  },
  {
   "cell_type": "code",
   "execution_count": 41,
   "metadata": {},
   "outputs": [],
   "source": [
    "#test\n",
    "test_ballot= ballotGen8(120, .3)\n",
    "cand_list = ['A', 'B', 'C', 'D', 'E', 'F','G', 'H']\n",
    "num_seats= 3"
   ]
  },
  {
   "cell_type": "code",
   "execution_count": 42,
   "metadata": {},
   "outputs": [
    {
     "ename": "TypeError",
     "evalue": "cincinnati_transfer() missing 1 required positional argument: 'cutoff'",
     "output_type": "error",
     "traceback": [
      "\u001b[0;31m---------------------------------------------------------------------------\u001b[0m",
      "\u001b[0;31mTypeError\u001b[0m                                 Traceback (most recent call last)",
      "Cell \u001b[0;32mIn[42], line 3\u001b[0m\n\u001b[1;32m      1\u001b[0m election \u001b[39m=\u001b[39m rcvElections(test_ballot, cand_list, num_seats)\n\u001b[0;32m----> 3\u001b[0m election\u001b[39m.\u001b[39;49mrcv_run()\n",
      "File \u001b[0;32m~/Documents/rcv-distances/dist_analysis/rcv_elections.py:84\u001b[0m, in \u001b[0;36mrcvElections.rcv_run\u001b[0;34m(self, transfer_method, verbose_bool)\u001b[0m\n\u001b[1;32m     82\u001b[0m \u001b[39mif\u001b[39;00m cand_totals[cand] \u001b[39m>\u001b[39m\u001b[39m=\u001b[39m cutoff:\n\u001b[1;32m     83\u001b[0m     winners\u001b[39m.\u001b[39mappend(cand)\n\u001b[0;32m---> 84\u001b[0m     transfer_method(cand, ballot_list, \u001b[39m\"\u001b[39;49m\u001b[39mwin\u001b[39;49m\u001b[39m\"\u001b[39;49m, cutoff)\n\u001b[1;32m     85\u001b[0m     candidates\u001b[39m.\u001b[39mremove(cand)\n\u001b[1;32m     86\u001b[0m     ballot_list \u001b[39m=\u001b[39m [x \u001b[39mfor\u001b[39;00m x \u001b[39min\u001b[39;00m ballot_list \u001b[39mif\u001b[39;00m x \u001b[39m!=\u001b[39m []]\n",
      "\u001b[0;31mTypeError\u001b[0m: cincinnati_transfer() missing 1 required positional argument: 'cutoff'"
     ]
    }
   ],
   "source": [
    "election = rcvElections(test_ballot, cand_list, num_seats)\n",
    "\n",
    "election.rcv_run()"
   ]
  }
 ],
 "metadata": {
  "kernelspec": {
   "display_name": "MGGG",
   "language": "python",
   "name": "python3"
  },
  "language_info": {
   "codemirror_mode": {
    "name": "ipython",
    "version": 3
   },
   "file_extension": ".py",
   "mimetype": "text/x-python",
   "name": "python",
   "nbconvert_exporter": "python",
   "pygments_lexer": "ipython3",
   "version": "3.9.16"
  },
  "orig_nbformat": 4
 },
 "nbformat": 4,
 "nbformat_minor": 2
}
